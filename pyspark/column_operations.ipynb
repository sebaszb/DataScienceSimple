{
 "cells": [
  {
   "cell_type": "markdown",
   "metadata": {},
   "source": [
    "# Operations Between Columns Using Pyspark\n",
    "\n",
    "The purpose of this notebooks is to give you a basic understanding of how to do basic operations between columns using Pyspark.\n",
    "\n",
    "We will start by importing all of the pyspark machinery and a function that generates a dummy table. We will use this table to create new columns using the existing ones."
   ]
  },
  {
   "cell_type": "code",
   "execution_count": 1,
   "metadata": {},
   "outputs": [],
   "source": [
    "# Spark related machinery\n",
    "import pyspark\n",
    "import pyspark.sql.functions as F\n",
    "from pyspark import SparkConf\n",
    "from pyspark.sql.types import *\n",
    "from pyspark.sql import SparkSession\n",
    "from pyspark.sql import HiveContext\n",
    "from pyspark.sql.functions import concat_ws\n",
    "\n",
    "spark = pyspark.sql.SparkSession.builder.enableHiveSupport().getOrCreate()"
   ]
  },
  {
   "cell_type": "code",
   "execution_count": 2,
   "metadata": {},
   "outputs": [],
   "source": [
    "from pyspark_functions import create_sp_table2"
   ]
  },
  {
   "cell_type": "markdown",
   "metadata": {},
   "source": [
    "Now we will create the table using the function ``` create_sp_table2``` and print it to screen."
   ]
  },
  {
   "cell_type": "code",
   "execution_count": 3,
   "metadata": {},
   "outputs": [
    {
     "name": "stdout",
     "output_type": "stream",
     "text": [
      "+--------------+-------+---------+---+------------+------------+\n",
      "|participant_id|   name|last_name|age|score_game_1|score_game_2|\n",
      "+--------------+-------+---------+---+------------+------------+\n",
      "|             1| Sophia|     Lara| 27|          89|          84|\n",
      "|             2|   Liam|    Smith| 23|          50|          60|\n",
      "|             3| Olivia|   Wilson| 25|          78|          70|\n",
      "|             4|Jackson|   Garcia| 24|          98|          90|\n",
      "|             5|    Ava|    Moore| 26|         100|          89|\n",
      "|             6| Oliver|     Leon| 30|          65|          70|\n",
      "|             7|  Lucas|    Brown| 24|          78|          75|\n",
      "|             8|    Mia|      Lee| 31|          85|          79|\n",
      "|             9|   Aria| Robinson| 28|          80|          89|\n",
      "|            10| Amelia|   Walker| 29|          93|          99|\n",
      "+--------------+-------+---------+---+------------+------------+\n",
      "\n"
     ]
    }
   ],
   "source": [
    "#Create table\n",
    "players_info = create_sp_table2()\n",
    "\n",
    "#Print table\n",
    "players_info.show()"
   ]
  },
  {
   "cell_type": "markdown",
   "metadata": {},
   "source": [
    "## Simple Operations Between Columns\n",
    "We will start by adding a new column **score_game_1_plus_10** where we add 10 points to the column **score_game_1**"
   ]
  },
  {
   "cell_type": "code",
   "execution_count": 4,
   "metadata": {},
   "outputs": [
    {
     "name": "stdout",
     "output_type": "stream",
     "text": [
      "+--------------+-------+---------+---+------------+------------+--------------------+\n",
      "|participant_id|   name|last_name|age|score_game_1|score_game_2|score_game_1_plus_10|\n",
      "+--------------+-------+---------+---+------------+------------+--------------------+\n",
      "|             1| Sophia|     Lara| 27|          89|          84|                  99|\n",
      "|             2|   Liam|    Smith| 23|          50|          60|                  60|\n",
      "|             3| Olivia|   Wilson| 25|          78|          70|                  88|\n",
      "|             4|Jackson|   Garcia| 24|          98|          90|                 108|\n",
      "|             5|    Ava|    Moore| 26|         100|          89|                 110|\n",
      "|             6| Oliver|     Leon| 30|          65|          70|                  75|\n",
      "|             7|  Lucas|    Brown| 24|          78|          75|                  88|\n",
      "|             8|    Mia|      Lee| 31|          85|          79|                  95|\n",
      "|             9|   Aria| Robinson| 28|          80|          89|                  90|\n",
      "|            10| Amelia|   Walker| 29|          93|          99|                 103|\n",
      "+--------------+-------+---------+---+------------+------------+--------------------+\n",
      "\n"
     ]
    }
   ],
   "source": [
    "#Create new column\n",
    "players_info = players_info.withColumn(\"score_game_1_plus_10\", F.col(\"score_game_1\") + 10)\n",
    "\n",
    "#Print table\n",
    "players_info.show()"
   ]
  },
  {
   "cell_type": "markdown",
   "metadata": {},
   "source": [
    "The new column is created with the method ```withColumn()```. The first argument that this function takes is the name of the new column you want to create. The second argument that we passed is the operation used to create the new column, in our case ``` F.col(\"score_game_1\") + 10```.\n",
    "\n",
    "Now we will add the columns **score_game_1** and **score_game_2** to generate a new column named **total_score**:"
   ]
  },
  {
   "cell_type": "code",
   "execution_count": 5,
   "metadata": {},
   "outputs": [
    {
     "name": "stdout",
     "output_type": "stream",
     "text": [
      "+--------------+------------+------------+-----------+\n",
      "|participant_id|score_game_1|score_game_2|total_score|\n",
      "+--------------+------------+------------+-----------+\n",
      "|             1|          89|          84|        173|\n",
      "|             2|          50|          60|        110|\n",
      "|             3|          78|          70|        148|\n",
      "|             4|          98|          90|        188|\n",
      "|             5|         100|          89|        189|\n",
      "|             6|          65|          70|        135|\n",
      "|             7|          78|          75|        153|\n",
      "|             8|          85|          79|        164|\n",
      "|             9|          80|          89|        169|\n",
      "|            10|          93|          99|        192|\n",
      "+--------------+------------+------------+-----------+\n",
      "\n"
     ]
    }
   ],
   "source": [
    "#Create new column\n",
    "players_info = players_info.withColumn(\"total_score\", F.col(\"Score_game_1\") + F.col(\"Score_game_2\"))\n",
    "\n",
    "#print to screen only selected columns\n",
    "players_info.select(\"participant_id\", \"score_game_1\", \"score_game_2\", \"total_score\").show()"
   ]
  },
  {
   "cell_type": "markdown",
   "metadata": {},
   "source": [
    "It is important to mention that in the previous example we are only printing 4 columns (**participant_id**, **score_game_1**, **score_game_2**,  and **total_score**). This was done using the method ```select()``` and passing the names of the columns separated by comas.\n",
    "\n",
    "## String Concatenation\n",
    "If we want to concatenate two columns, in this case strings, we need to use the method ```concat()```. In the example below we will create a new column named **full_name** by concatenating the columns **name** and **last_name**:"
   ]
  },
  {
   "cell_type": "code",
   "execution_count": 6,
   "metadata": {},
   "outputs": [
    {
     "name": "stdout",
     "output_type": "stream",
     "text": [
      "+-------+---------+--------------+\n",
      "|   name|last_name|     full_name|\n",
      "+-------+---------+--------------+\n",
      "| Sophia|     Lara|   Sophia Lara|\n",
      "|   Liam|    Smith|    Liam Smith|\n",
      "| Olivia|   Wilson| Olivia Wilson|\n",
      "|Jackson|   Garcia|Jackson Garcia|\n",
      "|    Ava|    Moore|     Ava Moore|\n",
      "| Oliver|     Leon|   Oliver Leon|\n",
      "|  Lucas|    Brown|   Lucas Brown|\n",
      "|    Mia|      Lee|       Mia Lee|\n",
      "|   Aria| Robinson| Aria Robinson|\n",
      "| Amelia|   Walker| Amelia Walker|\n",
      "+-------+---------+--------------+\n",
      "\n"
     ]
    }
   ],
   "source": [
    "#Concatenate two columns (name and last_name) adding a white space inbetween\n",
    "players_info = players_info.withColumn(\"full_name\", F.concat(\"name\", F.lit(\" \"), \"last_name\"))\n",
    "\n",
    "#Select 3 columns and print them\n",
    "players_info.select(\"name\", \"last_name\", \"full_name\").show()"
   ]
  },
  {
   "cell_type": "markdown",
   "metadata": {},
   "source": [
    "## User Defined Functions\n",
    "\n",
    "Sometimes you need to do operations between columns that require a more complex logic. In those cases you can create an User-Defined-Function (UDF) using the method ```udf```.\n",
    "\n",
    "For example, let’s say that we want to add 10 points to the **score_game_1** column only to players with ages equal or less than 26, leaving all other players with their original score. And we want to put this new numbers in a column called **score_game_1_new**.\n",
    "\n",
    "In order to do that, we will start by creating a function called ```young_get_extra_ten()```, and a second one called ```udf_young_get_extra_ten``` see below:"
   ]
  },
  {
   "cell_type": "code",
   "execution_count": 7,
   "metadata": {},
   "outputs": [],
   "source": [
    "#New funciton\n",
    "def young_get_extra_ten(age, score):    \n",
    "    #create the new score\n",
    "    if age <= 26:\n",
    "        new_score = score + 10\n",
    "    if age > 26:\n",
    "        new_score = score\n",
    "    return new_score\n",
    "\n",
    "#User-Defined-Function\n",
    "udf_young_get_extra_ten = F.udf(young_get_extra_ten, IntegerType())"
   ]
  },
  {
   "attachments": {},
   "cell_type": "markdown",
   "metadata": {},
   "source": [
    "Ok, lets break down the ```def young_get_extra_ten``` function line by line:\n",
    "\n",
    "* ```def young_get_extra_ten(age, score):```: The name of the function. The funciton takes thow columns **age** and **score**.\n",
    "\n",
    "* ```if age <= 26:```: If the variable age is less or equal to 26 do the following:\n",
    "    * ```new_score = score + 10```: Set the variable ```new_score``` to the value of the column **score_game_1** plus ten points.\n",
    "\n",
    "* ``` if age > 26:```: If the variable age is larger than 26, do the following.\n",
    "\t* ```new_score = score```: Set the variable ```new_score``` to the value of the column **score_game_1**.\n",
    "\n",
    "*  ``` return new_score```: return the variable ```new_score```\n",
    "\n",
    "It is important to notice that the Pyspark function that we will use (```udf_young_get_extra_ten```) is created using the ```udf``` method. This method is taking two elements: The name of the function and the type of the output, in this case an integer.\n",
    "\n",
    "In the code of block below, we will use our UDF function ```udf_young_get_extra_ten```  to create the new column:"
   ]
  },
  {
   "cell_type": "code",
   "execution_count": 8,
   "metadata": {},
   "outputs": [
    {
     "name": "stdout",
     "output_type": "stream",
     "text": [
      "+---+------------+----------------+\n",
      "|age|score_game_1|score_game_1_new|\n",
      "+---+------------+----------------+\n",
      "| 27|          89|              89|\n",
      "| 23|          50|              60|\n",
      "| 25|          78|              88|\n",
      "| 24|          98|             108|\n",
      "| 26|         100|             110|\n",
      "| 30|          65|              65|\n",
      "| 24|          78|              88|\n",
      "| 31|          85|              85|\n",
      "| 28|          80|              80|\n",
      "| 29|          93|              93|\n",
      "+---+------------+----------------+\n",
      "\n"
     ]
    }
   ],
   "source": [
    "#Create new column using the UDF\n",
    "players_info = players_info.withColumn(\"score_game_1_new\", udf_young_get_extra_ten(F.col(\"age\"), F.col(\"score_game_1\")))\n",
    "\n",
    "#Select columns and print table\n",
    "players_info.select(\"age\", \"score_game_1\", \"score_game_1_new\").show()"
   ]
  },
  {
   "attachments": {},
   "cell_type": "markdown",
   "metadata": {},
   "source": [
    "It is important to notice that the new column **score_game_1_new** is created using the ```withColumn``` method where we are passing the name of the new column and the UDF we defined earlier. Also it is important to notice that the two arguments passed to the UDF are the columns **age** and **score_game_1**.\n",
    "\n",
    "## Method ```when```\n",
    "\n",
    "While UDFs are very useful in implementing complicated logic, most of the time you can accomplish the same goal using the ```when``` method. In order to demonstrate how this method works, in the following block of code we will create a new column, **score_game_2_new**, where we will subtract 10 points from the column **score_game_2** for players at the age of 26 or younger."
   ]
  },
  {
   "cell_type": "code",
   "execution_count": 9,
   "metadata": {},
   "outputs": [
    {
     "name": "stdout",
     "output_type": "stream",
     "text": [
      "+---+------------+----------------+\n",
      "|age|score_game_2|score_game_2_new|\n",
      "+---+------------+----------------+\n",
      "| 27|          84|              84|\n",
      "| 23|          60|              50|\n",
      "| 25|          70|              60|\n",
      "| 24|          90|              80|\n",
      "| 26|          89|              79|\n",
      "| 30|          70|              70|\n",
      "| 24|          75|              65|\n",
      "| 31|          79|              79|\n",
      "| 28|          89|              89|\n",
      "| 29|          99|              99|\n",
      "+---+------------+----------------+\n",
      "\n"
     ]
    }
   ],
   "source": [
    "#Condition\n",
    "condition = F.col(\"age\") <= 26\n",
    "\n",
    "#Action\n",
    "action = F.col(\"score_game_2\") - 10\n",
    "\n",
    "#Create new column\n",
    "players_info = players_info.withColumn(\"score_game_2_new\", F.when(condition, action)\\\n",
    "                                                            .otherwise(F.col(\"score_game_2\")))\n",
    "\n",
    "#Select 3 columns and print table\n",
    "players_info.select(\"age\", \"score_game_2\", \"score_game_2_new\").show()"
   ]
  },
  {
   "cell_type": "markdown",
   "metadata": {},
   "source": [
    "As you see, the block of code above starts by declaring a condition (if the age of the player is 26 or less) and an action that would be taken if the condition is met (subtract 10 points from the column **score_game_2**). Then, we create our new column (**score_game_2**) using the ```withColumn``` method. As always the first argument that we pass is the name of the new column, while the second argument  is the method ```when```. \n",
    "\n",
    "It is important to notice two things: 1) The method ```when``` is taking the condition and action that we previously defined. 2) The method ```otherwise``` indicates the action taken when the initial condition is not met, in this case the action is to return the original value in the column **score_game_2**.\n",
    "\n",
    "# Final Words:\n",
    "\n",
    "We have covered the basics concepts behind performing operations between columns in Pyspark. Now it is time for you to start coding, start modifying this notebook by creating other columns and modifying the existing code.\n"
   ]
  }
 ],
 "metadata": {
  "kernelspec": {
   "display_name": "Python 3",
   "language": "python",
   "name": "python3"
  },
  "language_info": {
   "codemirror_mode": {
    "name": "ipython",
    "version": 3
   },
   "file_extension": ".py",
   "mimetype": "text/x-python",
   "name": "python",
   "nbconvert_exporter": "python",
   "pygments_lexer": "ipython3",
   "version": "3.7.3"
  }
 },
 "nbformat": 4,
 "nbformat_minor": 2
}
