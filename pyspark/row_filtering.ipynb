{
 "cells": [
  {
   "cell_type": "markdown",
   "metadata": {},
   "source": [
    "# Row Filtering\n",
    "\n",
    "As a data scientist you will find yourself filtering rows based on the value of one or several columns. In this notebook we will go over the basic tools used to filtering rows based on the column values.\n",
    "\n",
    "We will start by importing the pyspark machinery and a helper function that creates the table we will be using."
   ]
  },
  {
   "cell_type": "code",
   "execution_count": 2,
   "metadata": {},
   "outputs": [],
   "source": [
    "# Spark related machinery\n",
    "import pyspark\n",
    "import pyspark.sql.functions as F\n",
    "from pyspark import SparkConf\n",
    "from pyspark.sql.types import *\n",
    "from pyspark.sql import SparkSession\n",
    "from pyspark.sql import HiveContext\n",
    "from pyspark.sql.functions import concat_ws\n",
    "\n",
    "spark = pyspark.sql.SparkSession.builder.enableHiveSupport().getOrCreate()"
   ]
  },
  {
   "cell_type": "code",
   "execution_count": 3,
   "metadata": {},
   "outputs": [],
   "source": [
    "from pyspark_functions import create_sp_table1"
   ]
  },
  {
   "cell_type": "markdown",
   "metadata": {},
   "source": [
    "In the following block of code we create the table and print the first 5 lines. The table has 1000 rows in total and 4 columns:\n",
    "\n",
    "* student_id\n",
    "* exam_1\n",
    "* exam_2\n",
    "* exam_3\n",
    "\n",
    "The table resembles the grades obtained by 1000 students in 3 exams."
   ]
  },
  {
   "cell_type": "code",
   "execution_count": 5,
   "metadata": {},
   "outputs": [
    {
     "name": "stdout",
     "output_type": "stream",
     "text": [
      "+----------+------+------+------+\n",
      "|student_id|exam_1|exam_2|exam_3|\n",
      "+----------+------+------+------+\n",
      "|         1|     9|     5|     9|\n",
      "|         2|     4|     3|    10|\n",
      "|         3|     0|    10|     0|\n",
      "|         4|     8|     9|     4|\n",
      "|         5|     8|     2|     5|\n",
      "+----------+------+------+------+\n",
      "only showing top 5 rows\n",
      "\n"
     ]
    }
   ],
   "source": [
    "#Create the table\n",
    "grades = create_sp_table1()\n",
    "\n",
    "#Print the first 5 rows\n",
    "grades.show(5)"
   ]
  },
  {
   "cell_type": "markdown",
   "metadata": {},
   "source": [
    "## Filtering Based on one Column\n",
    "In the following block of code we create a new table containing only rows where the value for the column **exam_1** is equal to 10. Then, we print the first 5 rows of the new table.\n"
   ]
  },
  {
   "cell_type": "code",
   "execution_count": 6,
   "metadata": {},
   "outputs": [
    {
     "name": "stdout",
     "output_type": "stream",
     "text": [
      "+----------+------+------+------+\n",
      "|student_id|exam_1|exam_2|exam_3|\n",
      "+----------+------+------+------+\n",
      "|         6|    10|     4|     2|\n",
      "|         8|    10|     6|     4|\n",
      "|         9|    10|     8|     4|\n",
      "|        16|    10|     3|     4|\n",
      "|        33|    10|     0|     4|\n",
      "+----------+------+------+------+\n",
      "only showing top 5 rows\n",
      "\n",
      "number of rows in the new table:  83\n"
     ]
    }
   ],
   "source": [
    "#Keep only rows where the column exam_1 is equal to 10\n",
    "exam1_best = grades.where(F.col(\"exam_1\") == 10)\n",
    "\n",
    "#Print the first 5 rows of the table\n",
    "exam1_best.show(5)\n",
    "\n",
    "#Count the number of rows in the new table\n",
    "print(\"number of rows in the new table: \", exam1_best.count())"
   ]
  },
  {
   "cell_type": "markdown",
   "metadata": {},
   "source": [
    "The filtering took place using the method ```where```. However, we could have used the method ```filter``` to accomplish the same task. Try it! just replace ```where``` with ```filter```.\n",
    "\n",
    "It is important to notice a couple of things:\n",
    "\n",
    "1. We are referring to the column **exam_1** using the expression ```F.col(“exam_1”)```, see the first line in the block of code above.\n",
    "2. The new table has less rows than the initial table (1000) , see the print statement at the end of the block of code above.\n",
    "\n",
    "## Filtering Based on Two Columns\n",
    "In this example we will construct a table where the values for column **exam_1** are less than 4 the values of the column **exam_2** are greater than 7. To achieve this goal we will use the \"**and**\" operator, which is represented by ```&```. We will name our new table **bad_and_good**."
   ]
  },
  {
   "cell_type": "code",
   "execution_count": 7,
   "metadata": {},
   "outputs": [
    {
     "name": "stdout",
     "output_type": "stream",
     "text": [
      "+----------+------+------+------+\n",
      "|student_id|exam_1|exam_2|exam_3|\n",
      "+----------+------+------+------+\n",
      "|         3|     0|    10|     0|\n",
      "|        17|     1|    10|     3|\n",
      "|        18|     1|     8|     6|\n",
      "|        19|     0|    10|     8|\n",
      "|        20|     3|     8|     2|\n",
      "+----------+------+------+------+\n",
      "only showing top 5 rows\n",
      "\n",
      "number of rows in the new table:  187\n"
     ]
    }
   ],
   "source": [
    "#Create new table by fltering rows\n",
    "bad_and_good = grades.where((F.col(\"exam_1\") <= 4) & (F.col(\"exam_2\") >= 7))\n",
    "\n",
    "#Print the first 5 rows of the table to screen\n",
    "bad_and_good.show(5)\n",
    "\n",
    "#Count the number of rows in the new table\n",
    "print(\"number of rows in the new table: \", bad_and_good.count())"
   ]
  },
  {
   "cell_type": "markdown",
   "metadata": {},
   "source": [
    "As you can see the new table have less rows than the original table. \n",
    "\n",
    "Now, one cool trick, that is very useful when you have many conditions in your filtering, is to define the conditions before the filtering. In the block of code below, we create a table where the all the values for the column **exam_1** are smaller than 3, or the values for the column **exam_3** are greater than 8."
   ]
  },
  {
   "cell_type": "code",
   "execution_count": 8,
   "metadata": {},
   "outputs": [
    {
     "name": "stdout",
     "output_type": "stream",
     "text": [
      "+----------+------+------+------+\n",
      "|student_id|exam_1|exam_2|exam_3|\n",
      "+----------+------+------+------+\n",
      "|         1|     9|     5|     9|\n",
      "|         2|     4|     3|    10|\n",
      "|         3|     0|    10|     0|\n",
      "|         7|     2|     6|     7|\n",
      "|        13|     4|     6|     8|\n",
      "+----------+------+------+------+\n",
      "only showing top 5 rows\n",
      "\n",
      "number of rows in the new table:  544\n"
     ]
    }
   ],
   "source": [
    "#Define conditions\n",
    "condition_1 = F.col(\"exam_1\") <= 3\n",
    "condition_2 = F.col(\"exam_3\") >= 8\n",
    "\n",
    "#Create new table by filtering rows\n",
    "bad_or_good = grades.where(condition_1 | condition_2)\n",
    "\n",
    "#Print the first 5 rows of the table to screen\n",
    "bad_or_good.show(5)\n",
    "\n",
    "#Count the number of rows in the new table\n",
    "print(\"number of rows in the new table: \", bad_or_good.count())"
   ]
  },
  {
   "cell_type": "markdown",
   "metadata": {},
   "source": [
    "# Final Words\n",
    "\n",
    "We went over the basics concepts behind row filtering in pyspark. Now it is time for you to start coding, try changing the filter conditions and doing different combinations of  **\"or\"** and **\"and\"** operators. Also try using the method ```filter``` instead of ```where```."
   ]
  },
  {
   "cell_type": "code",
   "execution_count": null,
   "metadata": {},
   "outputs": [],
   "source": []
  }
 ],
 "metadata": {
  "kernelspec": {
   "display_name": "Python 3 (ipykernel)",
   "language": "python",
   "name": "python3"
  },
  "language_info": {
   "codemirror_mode": {
    "name": "ipython",
    "version": 3
   },
   "file_extension": ".py",
   "mimetype": "text/x-python",
   "name": "python",
   "nbconvert_exporter": "python",
   "pygments_lexer": "ipython3",
   "version": "3.8.16"
  }
 },
 "nbformat": 4,
 "nbformat_minor": 2
}
